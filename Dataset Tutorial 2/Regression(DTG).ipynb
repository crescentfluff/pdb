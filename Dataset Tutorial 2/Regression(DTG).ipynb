{
 "cells": [
  {
   "cell_type": "code",
   "execution_count": 3,
   "metadata": {},
   "outputs": [
    {
     "data": {
      "text/html": [
       "<div>\n",
       "<style scoped>\n",
       "    .dataframe tbody tr th:only-of-type {\n",
       "        vertical-align: middle;\n",
       "    }\n",
       "\n",
       "    .dataframe tbody tr th {\n",
       "        vertical-align: top;\n",
       "    }\n",
       "\n",
       "    .dataframe thead th {\n",
       "        text-align: right;\n",
       "    }\n",
       "</style>\n",
       "<table border=\"1\" class=\"dataframe\">\n",
       "  <thead>\n",
       "    <tr style=\"text-align: right;\">\n",
       "      <th></th>\n",
       "      <th>Unnamed: 0</th>\n",
       "      <th>age</th>\n",
       "      <th>sex</th>\n",
       "      <th>bmi</th>\n",
       "      <th>children</th>\n",
       "      <th>smoker</th>\n",
       "      <th>region</th>\n",
       "      <th>charges</th>\n",
       "    </tr>\n",
       "  </thead>\n",
       "  <tbody>\n",
       "    <tr>\n",
       "      <th>0</th>\n",
       "      <td>0</td>\n",
       "      <td>19</td>\n",
       "      <td>0</td>\n",
       "      <td>27.900</td>\n",
       "      <td>0</td>\n",
       "      <td>1</td>\n",
       "      <td>3</td>\n",
       "      <td>16884.92400</td>\n",
       "    </tr>\n",
       "    <tr>\n",
       "      <th>1</th>\n",
       "      <td>1</td>\n",
       "      <td>18</td>\n",
       "      <td>1</td>\n",
       "      <td>33.770</td>\n",
       "      <td>1</td>\n",
       "      <td>0</td>\n",
       "      <td>2</td>\n",
       "      <td>1725.55230</td>\n",
       "    </tr>\n",
       "    <tr>\n",
       "      <th>2</th>\n",
       "      <td>2</td>\n",
       "      <td>28</td>\n",
       "      <td>1</td>\n",
       "      <td>33.000</td>\n",
       "      <td>3</td>\n",
       "      <td>0</td>\n",
       "      <td>2</td>\n",
       "      <td>4449.46200</td>\n",
       "    </tr>\n",
       "    <tr>\n",
       "      <th>3</th>\n",
       "      <td>3</td>\n",
       "      <td>33</td>\n",
       "      <td>1</td>\n",
       "      <td>22.705</td>\n",
       "      <td>0</td>\n",
       "      <td>0</td>\n",
       "      <td>1</td>\n",
       "      <td>21984.47061</td>\n",
       "    </tr>\n",
       "    <tr>\n",
       "      <th>4</th>\n",
       "      <td>4</td>\n",
       "      <td>32</td>\n",
       "      <td>1</td>\n",
       "      <td>28.880</td>\n",
       "      <td>0</td>\n",
       "      <td>0</td>\n",
       "      <td>1</td>\n",
       "      <td>3866.85520</td>\n",
       "    </tr>\n",
       "  </tbody>\n",
       "</table>\n",
       "</div>"
      ],
      "text/plain": [
       "   Unnamed: 0  age  sex     bmi  children  smoker  region      charges\n",
       "0           0   19    0  27.900         0       1       3  16884.92400\n",
       "1           1   18    1  33.770         1       0       2   1725.55230\n",
       "2           2   28    1  33.000         3       0       2   4449.46200\n",
       "3           3   33    1  22.705         0       0       1  21984.47061\n",
       "4           4   32    1  28.880         0       0       1   3866.85520"
      ]
     },
     "execution_count": 3,
     "metadata": {},
     "output_type": "execute_result"
    }
   ],
   "source": [
    "import pandas as pd\n",
    "import matplotlib.pyplot as plot\n",
    "import random as rd\n",
    "import math\n",
    "import numpy as np\n",
    "import sklearn.metrics as metrics\n",
    "from sklearn.tree import DecisionTreeRegressor\n",
    "insr = pd.read_csv('insurance_modif.csv')\n",
    "data = insr[['age','bmi','smoker']]\n",
    "predict = insr[['charges']]\n",
    "insr.head()"
   ]
  },
  {
   "cell_type": "code",
   "execution_count": 4,
   "metadata": {},
   "outputs": [
    {
     "data": {
      "text/html": [
       "<div>\n",
       "<style scoped>\n",
       "    .dataframe tbody tr th:only-of-type {\n",
       "        vertical-align: middle;\n",
       "    }\n",
       "\n",
       "    .dataframe tbody tr th {\n",
       "        vertical-align: top;\n",
       "    }\n",
       "\n",
       "    .dataframe thead th {\n",
       "        text-align: right;\n",
       "    }\n",
       "</style>\n",
       "<table border=\"1\" class=\"dataframe\">\n",
       "  <thead>\n",
       "    <tr style=\"text-align: right;\">\n",
       "      <th></th>\n",
       "      <th>age</th>\n",
       "      <th>bmi</th>\n",
       "      <th>smoker</th>\n",
       "    </tr>\n",
       "  </thead>\n",
       "  <tbody>\n",
       "    <tr>\n",
       "      <th>0</th>\n",
       "      <td>19</td>\n",
       "      <td>27.900</td>\n",
       "      <td>1</td>\n",
       "    </tr>\n",
       "    <tr>\n",
       "      <th>1</th>\n",
       "      <td>18</td>\n",
       "      <td>33.770</td>\n",
       "      <td>0</td>\n",
       "    </tr>\n",
       "    <tr>\n",
       "      <th>2</th>\n",
       "      <td>28</td>\n",
       "      <td>33.000</td>\n",
       "      <td>0</td>\n",
       "    </tr>\n",
       "    <tr>\n",
       "      <th>3</th>\n",
       "      <td>33</td>\n",
       "      <td>22.705</td>\n",
       "      <td>0</td>\n",
       "    </tr>\n",
       "    <tr>\n",
       "      <th>4</th>\n",
       "      <td>32</td>\n",
       "      <td>28.880</td>\n",
       "      <td>0</td>\n",
       "    </tr>\n",
       "  </tbody>\n",
       "</table>\n",
       "</div>"
      ],
      "text/plain": [
       "   age     bmi  smoker\n",
       "0   19  27.900       1\n",
       "1   18  33.770       0\n",
       "2   28  33.000       0\n",
       "3   33  22.705       0\n",
       "4   32  28.880       0"
      ]
     },
     "execution_count": 4,
     "metadata": {},
     "output_type": "execute_result"
    }
   ],
   "source": [
    "data.head(5)"
   ]
  },
  {
   "cell_type": "code",
   "execution_count": 5,
   "metadata": {},
   "outputs": [
    {
     "data": {
      "text/html": [
       "<div>\n",
       "<style scoped>\n",
       "    .dataframe tbody tr th:only-of-type {\n",
       "        vertical-align: middle;\n",
       "    }\n",
       "\n",
       "    .dataframe tbody tr th {\n",
       "        vertical-align: top;\n",
       "    }\n",
       "\n",
       "    .dataframe thead th {\n",
       "        text-align: right;\n",
       "    }\n",
       "</style>\n",
       "<table border=\"1\" class=\"dataframe\">\n",
       "  <thead>\n",
       "    <tr style=\"text-align: right;\">\n",
       "      <th></th>\n",
       "      <th>charges</th>\n",
       "    </tr>\n",
       "  </thead>\n",
       "  <tbody>\n",
       "    <tr>\n",
       "      <th>0</th>\n",
       "      <td>16884.92400</td>\n",
       "    </tr>\n",
       "    <tr>\n",
       "      <th>1</th>\n",
       "      <td>1725.55230</td>\n",
       "    </tr>\n",
       "    <tr>\n",
       "      <th>2</th>\n",
       "      <td>4449.46200</td>\n",
       "    </tr>\n",
       "    <tr>\n",
       "      <th>3</th>\n",
       "      <td>21984.47061</td>\n",
       "    </tr>\n",
       "    <tr>\n",
       "      <th>4</th>\n",
       "      <td>3866.85520</td>\n",
       "    </tr>\n",
       "  </tbody>\n",
       "</table>\n",
       "</div>"
      ],
      "text/plain": [
       "       charges\n",
       "0  16884.92400\n",
       "1   1725.55230\n",
       "2   4449.46200\n",
       "3  21984.47061\n",
       "4   3866.85520"
      ]
     },
     "execution_count": 5,
     "metadata": {},
     "output_type": "execute_result"
    }
   ],
   "source": [
    "predict.head(5)"
   ]
  },
  {
   "cell_type": "code",
   "execution_count": 6,
   "metadata": {},
   "outputs": [
    {
     "data": {
      "text/plain": [
       "(1070, 3)"
      ]
     },
     "execution_count": 6,
     "metadata": {},
     "output_type": "execute_result"
    }
   ],
   "source": [
    "from sklearn.model_selection import train_test_split\n",
    "x_train,x_test,y_train,y_test=train_test_split(data,predict,test_size=0.2)\n",
    "x_train.shape"
   ]
  },
  {
   "cell_type": "code",
   "execution_count": 35,
   "metadata": {},
   "outputs": [
    {
     "data": {
      "text/plain": [
       "(268, 3)"
      ]
     },
     "execution_count": 35,
     "metadata": {},
     "output_type": "execute_result"
    }
   ],
   "source": [
    "x_test.shape"
   ]
  },
  {
   "cell_type": "code",
   "execution_count": 8,
   "metadata": {},
   "outputs": [
    {
     "name": "stdout",
     "output_type": "stream",
     "text": [
      "[32734.1863    3172.018    43921.1837    4340.4409    2201.0971\n",
      " 10043.249    16297.846    10096.97      3091.6885   13129.60345\n",
      "  3693.428     2632.992    20277.80751   1635.73365  11987.1682\n",
      " 18804.7524    1906.35825  12124.9924   22144.032     8627.5411\n",
      "  2457.502    11512.405     8538.28845  11272.33139  24180.9335\n",
      " 13041.921    12235.8392   44501.3982   41676.0811    9283.562\n",
      " 27117.99378   7325.0482    8342.90875  28950.4692    5979.731\n",
      " 47055.5321    6494.9025    2117.33885   3757.8448    8782.469\n",
      " 23887.6627    9377.9047    8688.85885   8302.53565   5757.41345\n",
      " 14283.4594   51194.55914  31620.00106   4673.3922    4746.344\n",
      " 20296.86345  23244.7902    6825.961     4544.2348    8539.671\n",
      " 13224.693     7882.429475 20984.0936    4719.73655  42111.6647\n",
      "  1121.8739   10602.385    25517.11363   3161.454    32787.45859\n",
      " 22478.6      10602.385     2731.9122   46130.5265   39597.4072\n",
      "  6877.9801    5972.378    14256.1928    9447.3824   19933.458\n",
      " 32734.1863   48673.5588    6571.544     8516.829    13822.803\n",
      " 47269.854     2534.39375   1121.8739    3176.8159   12096.6512\n",
      "  4504.6624   20167.33603   8527.532     1708.92575   8334.5896\n",
      "  8671.19125  34806.4677    4518.82625   9290.1395   14455.64405\n",
      " 42111.6647   23065.4207    2156.7518    3736.4647    2196.4732\n",
      " 40932.4295   23306.547     4237.12655  36219.40545   8605.3615\n",
      " 12404.8791    6781.3542    6593.5083   11365.952    10043.249\n",
      " 28868.6639    1261.859    46130.5265    4058.1161    6494.9025\n",
      "  1607.5101   10602.385     6356.2707   11165.41765  27117.99378\n",
      " 10043.249    11552.904     2459.7201    7518.02535   1131.5066\n",
      "  8538.28845  40003.33225  43753.33705   1674.6323    5472.449\n",
      " 11286.5387   10118.424     3484.331     1917.3184    4827.90495\n",
      " 11163.568     4504.6624    2154.361     5325.651    11093.6229\n",
      "  8527.532    16085.1275   36197.699    11830.6072   12928.7911\n",
      "  7441.053    12557.6053    7371.772     2104.1134   12224.35085\n",
      " 20277.80751   6877.9801   24106.91255   6289.7549    2913.569\n",
      "  7729.64575   7173.35995  23045.56616  13880.949    38711.\n",
      " 13224.693    12404.8791   11512.405     8615.3      11552.904\n",
      " 35147.52848   4846.92015   8522.003    10982.5013    4133.64165\n",
      " 10043.249     6067.12675  19144.57652   5910.944    19144.57652\n",
      "  1634.5734    2457.502    23045.56616  10806.839     6185.3208\n",
      "  6748.5912   11073.176     8219.2039    2156.7518   11085.5868\n",
      " 17468.9839   10355.641    12430.95335  11187.6567   48549.17835\n",
      " 41676.0811    1731.677     3972.9247    7518.02535   7325.0482\n",
      " 21098.55405   6402.29135   3292.52985   2483.736     8827.2099\n",
      " 35491.64      4234.927    14399.8544   15555.18875   1972.95\n",
      "  8534.6718    3687.4768   10214.636    23967.38305  10115.00885\n",
      " 14590.63205  27941.28758   3736.4647    1131.5066    6393.60345\n",
      " 10043.249     2899.48935   6748.5912   13607.36875   7153.5539\n",
      "  4544.2348   10795.93733   4040.55825   8671.19125   8988.15875\n",
      "  8334.5896   44202.6536   39725.51805  12224.35085  38245.59327\n",
      "  9541.69555  32734.1863    1725.5523    5327.40025   9634.538\n",
      " 10602.385    40904.1995   10043.249    12574.049     4005.4225\n",
      " 15161.5344    4518.82625   7682.67      2494.022     1625.43375\n",
      "  4883.866    40182.246     2866.091     6338.0756    8442.667\n",
      " 27808.7251    3206.49135  10848.1343   11674.13      1391.5287\n",
      " 42856.838    32734.1863   46130.5265    1731.677     8688.85885\n",
      "  5630.45785  10118.424     8825.086    17361.7661    2721.3208\n",
      "  8988.15875  19361.9988   27000.98473 ]\n"
     ]
    }
   ],
   "source": [
    "dtg = DecisionTreeRegressor()\n",
    "model = dtg.fit(x_train, y_train)\n",
    "pred = dtg.predict(x_test)\n",
    "print(pred)"
   ]
  },
  {
   "cell_type": "code",
   "execution_count": 9,
   "metadata": {},
   "outputs": [
    {
     "name": "stdout",
     "output_type": "stream",
     "text": [
      "Nilai MAE =  55.003404736712405\n"
     ]
    }
   ],
   "source": [
    "print(\"Nilai MAE = \",np.sqrt(metrics.mean_absolute_error(y_test, pred)))"
   ]
  },
  {
   "cell_type": "code",
   "execution_count": null,
   "metadata": {},
   "outputs": [],
   "source": []
  }
 ],
 "metadata": {
  "kernelspec": {
   "display_name": "Python 3",
   "language": "python",
   "name": "python3"
  },
  "language_info": {
   "codemirror_mode": {
    "name": "ipython",
    "version": 3
   },
   "file_extension": ".py",
   "mimetype": "text/x-python",
   "name": "python",
   "nbconvert_exporter": "python",
   "pygments_lexer": "ipython3",
   "version": "3.6.6"
  }
 },
 "nbformat": 4,
 "nbformat_minor": 2
}
